{
 "cells": [
  {
   "cell_type": "markdown",
   "id": "1346bd19",
   "metadata": {},
   "source": [
    "## Importing the libraries"
   ]
  },
  {
   "cell_type": "code",
   "execution_count": 47,
   "id": "80066449",
   "metadata": {},
   "outputs": [],
   "source": [
    "#Importing the libraries\n",
    "import pandas as pd\n",
    "import numpy as np\n",
    "import matplotlib.pyplot as plt\n",
    "import datetime as dt\n",
    "from sklearn import datasets\n",
    "import seaborn as sns\n",
    "import matplotlib.pyplot as plt\n",
    "sns.set_theme(style=\"ticks\", color_codes=True)\n",
    "import warnings\n",
    "warnings.filterwarnings(\"ignore\")"
   ]
  },
  {
   "cell_type": "markdown",
   "id": "83659202",
   "metadata": {},
   "source": [
    "## Reading the CSV data"
   ]
  },
  {
   "cell_type": "code",
   "execution_count": 48,
   "id": "684621b8",
   "metadata": {},
   "outputs": [],
   "source": [
    "#reading the data\n",
    "df = pd.read_csv('/Users/santoshku/Documents/upGrad_PG/case study/loan.csv')"
   ]
  },
  {
   "cell_type": "code",
   "execution_count": 49,
   "id": "8ad6c4a7",
   "metadata": {},
   "outputs": [
    {
     "data": {
      "text/html": [
       "<div>\n",
       "<style scoped>\n",
       "    .dataframe tbody tr th:only-of-type {\n",
       "        vertical-align: middle;\n",
       "    }\n",
       "\n",
       "    .dataframe tbody tr th {\n",
       "        vertical-align: top;\n",
       "    }\n",
       "\n",
       "    .dataframe thead th {\n",
       "        text-align: right;\n",
       "    }\n",
       "</style>\n",
       "<table border=\"1\" class=\"dataframe\">\n",
       "  <thead>\n",
       "    <tr style=\"text-align: right;\">\n",
       "      <th></th>\n",
       "      <th>id</th>\n",
       "      <th>member_id</th>\n",
       "      <th>loan_amnt</th>\n",
       "      <th>funded_amnt</th>\n",
       "      <th>funded_amnt_inv</th>\n",
       "      <th>term</th>\n",
       "      <th>int_rate</th>\n",
       "      <th>installment</th>\n",
       "      <th>grade</th>\n",
       "      <th>sub_grade</th>\n",
       "      <th>...</th>\n",
       "      <th>num_tl_90g_dpd_24m</th>\n",
       "      <th>num_tl_op_past_12m</th>\n",
       "      <th>pct_tl_nvr_dlq</th>\n",
       "      <th>percent_bc_gt_75</th>\n",
       "      <th>pub_rec_bankruptcies</th>\n",
       "      <th>tax_liens</th>\n",
       "      <th>tot_hi_cred_lim</th>\n",
       "      <th>total_bal_ex_mort</th>\n",
       "      <th>total_bc_limit</th>\n",
       "      <th>total_il_high_credit_limit</th>\n",
       "    </tr>\n",
       "  </thead>\n",
       "  <tbody>\n",
       "    <tr>\n",
       "      <th>0</th>\n",
       "      <td>1077501</td>\n",
       "      <td>1296599</td>\n",
       "      <td>5000</td>\n",
       "      <td>5000</td>\n",
       "      <td>4975.0</td>\n",
       "      <td>36 months</td>\n",
       "      <td>10.65%</td>\n",
       "      <td>162.87</td>\n",
       "      <td>B</td>\n",
       "      <td>B2</td>\n",
       "      <td>...</td>\n",
       "      <td>NaN</td>\n",
       "      <td>NaN</td>\n",
       "      <td>NaN</td>\n",
       "      <td>NaN</td>\n",
       "      <td>0.0</td>\n",
       "      <td>0.0</td>\n",
       "      <td>NaN</td>\n",
       "      <td>NaN</td>\n",
       "      <td>NaN</td>\n",
       "      <td>NaN</td>\n",
       "    </tr>\n",
       "    <tr>\n",
       "      <th>1</th>\n",
       "      <td>1077430</td>\n",
       "      <td>1314167</td>\n",
       "      <td>2500</td>\n",
       "      <td>2500</td>\n",
       "      <td>2500.0</td>\n",
       "      <td>60 months</td>\n",
       "      <td>15.27%</td>\n",
       "      <td>59.83</td>\n",
       "      <td>C</td>\n",
       "      <td>C4</td>\n",
       "      <td>...</td>\n",
       "      <td>NaN</td>\n",
       "      <td>NaN</td>\n",
       "      <td>NaN</td>\n",
       "      <td>NaN</td>\n",
       "      <td>0.0</td>\n",
       "      <td>0.0</td>\n",
       "      <td>NaN</td>\n",
       "      <td>NaN</td>\n",
       "      <td>NaN</td>\n",
       "      <td>NaN</td>\n",
       "    </tr>\n",
       "    <tr>\n",
       "      <th>2</th>\n",
       "      <td>1077175</td>\n",
       "      <td>1313524</td>\n",
       "      <td>2400</td>\n",
       "      <td>2400</td>\n",
       "      <td>2400.0</td>\n",
       "      <td>36 months</td>\n",
       "      <td>15.96%</td>\n",
       "      <td>84.33</td>\n",
       "      <td>C</td>\n",
       "      <td>C5</td>\n",
       "      <td>...</td>\n",
       "      <td>NaN</td>\n",
       "      <td>NaN</td>\n",
       "      <td>NaN</td>\n",
       "      <td>NaN</td>\n",
       "      <td>0.0</td>\n",
       "      <td>0.0</td>\n",
       "      <td>NaN</td>\n",
       "      <td>NaN</td>\n",
       "      <td>NaN</td>\n",
       "      <td>NaN</td>\n",
       "    </tr>\n",
       "    <tr>\n",
       "      <th>3</th>\n",
       "      <td>1076863</td>\n",
       "      <td>1277178</td>\n",
       "      <td>10000</td>\n",
       "      <td>10000</td>\n",
       "      <td>10000.0</td>\n",
       "      <td>36 months</td>\n",
       "      <td>13.49%</td>\n",
       "      <td>339.31</td>\n",
       "      <td>C</td>\n",
       "      <td>C1</td>\n",
       "      <td>...</td>\n",
       "      <td>NaN</td>\n",
       "      <td>NaN</td>\n",
       "      <td>NaN</td>\n",
       "      <td>NaN</td>\n",
       "      <td>0.0</td>\n",
       "      <td>0.0</td>\n",
       "      <td>NaN</td>\n",
       "      <td>NaN</td>\n",
       "      <td>NaN</td>\n",
       "      <td>NaN</td>\n",
       "    </tr>\n",
       "    <tr>\n",
       "      <th>4</th>\n",
       "      <td>1075358</td>\n",
       "      <td>1311748</td>\n",
       "      <td>3000</td>\n",
       "      <td>3000</td>\n",
       "      <td>3000.0</td>\n",
       "      <td>60 months</td>\n",
       "      <td>12.69%</td>\n",
       "      <td>67.79</td>\n",
       "      <td>B</td>\n",
       "      <td>B5</td>\n",
       "      <td>...</td>\n",
       "      <td>NaN</td>\n",
       "      <td>NaN</td>\n",
       "      <td>NaN</td>\n",
       "      <td>NaN</td>\n",
       "      <td>0.0</td>\n",
       "      <td>0.0</td>\n",
       "      <td>NaN</td>\n",
       "      <td>NaN</td>\n",
       "      <td>NaN</td>\n",
       "      <td>NaN</td>\n",
       "    </tr>\n",
       "  </tbody>\n",
       "</table>\n",
       "<p>5 rows × 111 columns</p>\n",
       "</div>"
      ],
      "text/plain": [
       "        id  member_id  loan_amnt  funded_amnt  funded_amnt_inv        term  \\\n",
       "0  1077501    1296599       5000         5000           4975.0   36 months   \n",
       "1  1077430    1314167       2500         2500           2500.0   60 months   \n",
       "2  1077175    1313524       2400         2400           2400.0   36 months   \n",
       "3  1076863    1277178      10000        10000          10000.0   36 months   \n",
       "4  1075358    1311748       3000         3000           3000.0   60 months   \n",
       "\n",
       "  int_rate  installment grade sub_grade  ... num_tl_90g_dpd_24m  \\\n",
       "0   10.65%       162.87     B        B2  ...                NaN   \n",
       "1   15.27%        59.83     C        C4  ...                NaN   \n",
       "2   15.96%        84.33     C        C5  ...                NaN   \n",
       "3   13.49%       339.31     C        C1  ...                NaN   \n",
       "4   12.69%        67.79     B        B5  ...                NaN   \n",
       "\n",
       "  num_tl_op_past_12m pct_tl_nvr_dlq  percent_bc_gt_75 pub_rec_bankruptcies  \\\n",
       "0                NaN            NaN               NaN                  0.0   \n",
       "1                NaN            NaN               NaN                  0.0   \n",
       "2                NaN            NaN               NaN                  0.0   \n",
       "3                NaN            NaN               NaN                  0.0   \n",
       "4                NaN            NaN               NaN                  0.0   \n",
       "\n",
       "  tax_liens tot_hi_cred_lim total_bal_ex_mort total_bc_limit  \\\n",
       "0       0.0             NaN               NaN            NaN   \n",
       "1       0.0             NaN               NaN            NaN   \n",
       "2       0.0             NaN               NaN            NaN   \n",
       "3       0.0             NaN               NaN            NaN   \n",
       "4       0.0             NaN               NaN            NaN   \n",
       "\n",
       "  total_il_high_credit_limit  \n",
       "0                        NaN  \n",
       "1                        NaN  \n",
       "2                        NaN  \n",
       "3                        NaN  \n",
       "4                        NaN  \n",
       "\n",
       "[5 rows x 111 columns]"
      ]
     },
     "execution_count": 49,
     "metadata": {},
     "output_type": "execute_result"
    }
   ],
   "source": [
    "#checking first five rows of the data\n",
    "df.head()"
   ]
  },
  {
   "cell_type": "code",
   "execution_count": 50,
   "id": "bc9b147b",
   "metadata": {},
   "outputs": [
    {
     "data": {
      "text/plain": [
       "Index(['id', 'member_id', 'loan_amnt', 'funded_amnt', 'funded_amnt_inv',\n",
       "       'term', 'int_rate', 'installment', 'grade', 'sub_grade',\n",
       "       ...\n",
       "       'num_tl_90g_dpd_24m', 'num_tl_op_past_12m', 'pct_tl_nvr_dlq',\n",
       "       'percent_bc_gt_75', 'pub_rec_bankruptcies', 'tax_liens',\n",
       "       'tot_hi_cred_lim', 'total_bal_ex_mort', 'total_bc_limit',\n",
       "       'total_il_high_credit_limit'],\n",
       "      dtype='object', length=111)"
      ]
     },
     "execution_count": 50,
     "metadata": {},
     "output_type": "execute_result"
    }
   ],
   "source": [
    "#checking column names of the data\n",
    "df.columns"
   ]
  },
  {
   "cell_type": "markdown",
   "id": "37ba05a5",
   "metadata": {},
   "source": [
    "# Date cleaning"
   ]
  },
  {
   "cell_type": "markdown",
   "id": "5fd1e51e",
   "metadata": {},
   "source": [
    "## Removing the null values"
   ]
  },
  {
   "cell_type": "markdown",
   "id": "51877d4e",
   "metadata": {},
   "source": [
    "Since columns with more number of null values doesnt give insights on the problem.\n",
    "columns consisting 85% of null values are removed.\n",
    "\n",
    "\n",
    "Creating a variable to provide the percentage null values"
   ]
  },
  {
   "cell_type": "code",
   "execution_count": 51,
   "id": "2a36a4d4",
   "metadata": {},
   "outputs": [
    {
     "data": {
      "text/plain": [
       "33759"
      ]
     },
     "execution_count": 51,
     "metadata": {},
     "output_type": "execute_result"
    }
   ],
   "source": [
    "per_null = int(max(df.isna().sum()) * .85)\n",
    "per_null\n"
   ]
  },
  {
   "cell_type": "markdown",
   "id": "52055d24",
   "metadata": {},
   "source": [
    "\n",
    "Removing the columns with more than 85% of null values."
   ]
  },
  {
   "cell_type": "code",
   "execution_count": 52,
   "id": "114e3116",
   "metadata": {},
   "outputs": [],
   "source": [
    "df_no_null = pd.DataFrame()\n",
    "for x in df.columns:\n",
    "    if (df[x].isna().sum() < per_null):\n",
    "        df_no_null[x] = df[[x]]"
   ]
  },
  {
   "cell_type": "markdown",
   "id": "741ebce4",
   "metadata": {},
   "source": [
    "Removing the string 'month' from term and converting it to integer type"
   ]
  },
  {
   "cell_type": "code",
   "execution_count": 54,
   "id": "3427f4a8",
   "metadata": {},
   "outputs": [],
   "source": [
    "\n",
    "df_no_null['term'] = df_no_null['term'].apply(lambda x : x.replace(' months', ''))\n",
    "df_no_null['term'] = df_no_null['term'].apply(lambda x : int(x))\n"
   ]
  },
  {
   "cell_type": "markdown",
   "id": "2ef81d4d",
   "metadata": {},
   "source": [
    "The case study is to identify the reasons for defaults, We cannot get insights with the current ongoing loan data, hence the columns which are relevent to current ongoing loan are removed\n",
    "A new filtered dataset is created."
   ]
  },
  {
   "cell_type": "code",
   "execution_count": 55,
   "id": "61364735",
   "metadata": {
    "scrolled": true
   },
   "outputs": [
    {
     "data": {
      "text/html": [
       "<div>\n",
       "<style scoped>\n",
       "    .dataframe tbody tr th:only-of-type {\n",
       "        vertical-align: middle;\n",
       "    }\n",
       "\n",
       "    .dataframe tbody tr th {\n",
       "        vertical-align: top;\n",
       "    }\n",
       "\n",
       "    .dataframe thead th {\n",
       "        text-align: right;\n",
       "    }\n",
       "</style>\n",
       "<table border=\"1\" class=\"dataframe\">\n",
       "  <thead>\n",
       "    <tr style=\"text-align: right;\">\n",
       "      <th></th>\n",
       "      <th>member_id</th>\n",
       "      <th>term</th>\n",
       "      <th>annual_inc</th>\n",
       "      <th>int_rate</th>\n",
       "      <th>purpose</th>\n",
       "      <th>loan_amnt</th>\n",
       "      <th>loan_status</th>\n",
       "      <th>id</th>\n",
       "      <th>grade</th>\n",
       "      <th>home_ownership</th>\n",
       "      <th>...</th>\n",
       "      <th>total_pymnt</th>\n",
       "      <th>total_pymnt_inv</th>\n",
       "      <th>total_rec_prncp</th>\n",
       "      <th>total_rec_int</th>\n",
       "      <th>total_rec_late_fee</th>\n",
       "      <th>recoveries</th>\n",
       "      <th>collection_recovery_fee</th>\n",
       "      <th>last_pymnt_d</th>\n",
       "      <th>last_pymnt_amnt</th>\n",
       "      <th>last_credit_pull_d</th>\n",
       "    </tr>\n",
       "  </thead>\n",
       "  <tbody>\n",
       "    <tr>\n",
       "      <th>0</th>\n",
       "      <td>1296599</td>\n",
       "      <td>36</td>\n",
       "      <td>24000.0</td>\n",
       "      <td>10.65%</td>\n",
       "      <td>credit_card</td>\n",
       "      <td>5000</td>\n",
       "      <td>Fully Paid</td>\n",
       "      <td>1077501</td>\n",
       "      <td>B</td>\n",
       "      <td>RENT</td>\n",
       "      <td>...</td>\n",
       "      <td>5863.155187</td>\n",
       "      <td>5833.84</td>\n",
       "      <td>5000.00</td>\n",
       "      <td>863.16</td>\n",
       "      <td>0.00</td>\n",
       "      <td>0.00</td>\n",
       "      <td>0.00</td>\n",
       "      <td>Jan-15</td>\n",
       "      <td>171.62</td>\n",
       "      <td>May-16</td>\n",
       "    </tr>\n",
       "    <tr>\n",
       "      <th>1</th>\n",
       "      <td>1314167</td>\n",
       "      <td>60</td>\n",
       "      <td>30000.0</td>\n",
       "      <td>15.27%</td>\n",
       "      <td>car</td>\n",
       "      <td>2500</td>\n",
       "      <td>Charged Off</td>\n",
       "      <td>1077430</td>\n",
       "      <td>C</td>\n",
       "      <td>RENT</td>\n",
       "      <td>...</td>\n",
       "      <td>1008.710000</td>\n",
       "      <td>1008.71</td>\n",
       "      <td>456.46</td>\n",
       "      <td>435.17</td>\n",
       "      <td>0.00</td>\n",
       "      <td>117.08</td>\n",
       "      <td>1.11</td>\n",
       "      <td>Apr-13</td>\n",
       "      <td>119.66</td>\n",
       "      <td>Sep-13</td>\n",
       "    </tr>\n",
       "    <tr>\n",
       "      <th>2</th>\n",
       "      <td>1313524</td>\n",
       "      <td>36</td>\n",
       "      <td>12252.0</td>\n",
       "      <td>15.96%</td>\n",
       "      <td>small_business</td>\n",
       "      <td>2400</td>\n",
       "      <td>Fully Paid</td>\n",
       "      <td>1077175</td>\n",
       "      <td>C</td>\n",
       "      <td>RENT</td>\n",
       "      <td>...</td>\n",
       "      <td>3005.666844</td>\n",
       "      <td>3005.67</td>\n",
       "      <td>2400.00</td>\n",
       "      <td>605.67</td>\n",
       "      <td>0.00</td>\n",
       "      <td>0.00</td>\n",
       "      <td>0.00</td>\n",
       "      <td>Jun-14</td>\n",
       "      <td>649.91</td>\n",
       "      <td>May-16</td>\n",
       "    </tr>\n",
       "    <tr>\n",
       "      <th>3</th>\n",
       "      <td>1277178</td>\n",
       "      <td>36</td>\n",
       "      <td>49200.0</td>\n",
       "      <td>13.49%</td>\n",
       "      <td>other</td>\n",
       "      <td>10000</td>\n",
       "      <td>Fully Paid</td>\n",
       "      <td>1076863</td>\n",
       "      <td>C</td>\n",
       "      <td>RENT</td>\n",
       "      <td>...</td>\n",
       "      <td>12231.890000</td>\n",
       "      <td>12231.89</td>\n",
       "      <td>10000.00</td>\n",
       "      <td>2214.92</td>\n",
       "      <td>16.97</td>\n",
       "      <td>0.00</td>\n",
       "      <td>0.00</td>\n",
       "      <td>Jan-15</td>\n",
       "      <td>357.48</td>\n",
       "      <td>Apr-16</td>\n",
       "    </tr>\n",
       "    <tr>\n",
       "      <th>4</th>\n",
       "      <td>1311748</td>\n",
       "      <td>60</td>\n",
       "      <td>80000.0</td>\n",
       "      <td>12.69%</td>\n",
       "      <td>other</td>\n",
       "      <td>3000</td>\n",
       "      <td>Current</td>\n",
       "      <td>1075358</td>\n",
       "      <td>B</td>\n",
       "      <td>RENT</td>\n",
       "      <td>...</td>\n",
       "      <td>3513.330000</td>\n",
       "      <td>3513.33</td>\n",
       "      <td>2475.94</td>\n",
       "      <td>1037.39</td>\n",
       "      <td>0.00</td>\n",
       "      <td>0.00</td>\n",
       "      <td>0.00</td>\n",
       "      <td>May-16</td>\n",
       "      <td>67.79</td>\n",
       "      <td>May-16</td>\n",
       "    </tr>\n",
       "    <tr>\n",
       "      <th>...</th>\n",
       "      <td>...</td>\n",
       "      <td>...</td>\n",
       "      <td>...</td>\n",
       "      <td>...</td>\n",
       "      <td>...</td>\n",
       "      <td>...</td>\n",
       "      <td>...</td>\n",
       "      <td>...</td>\n",
       "      <td>...</td>\n",
       "      <td>...</td>\n",
       "      <td>...</td>\n",
       "      <td>...</td>\n",
       "      <td>...</td>\n",
       "      <td>...</td>\n",
       "      <td>...</td>\n",
       "      <td>...</td>\n",
       "      <td>...</td>\n",
       "      <td>...</td>\n",
       "      <td>...</td>\n",
       "      <td>...</td>\n",
       "      <td>...</td>\n",
       "    </tr>\n",
       "    <tr>\n",
       "      <th>39712</th>\n",
       "      <td>92174</td>\n",
       "      <td>36</td>\n",
       "      <td>110000.0</td>\n",
       "      <td>8.07%</td>\n",
       "      <td>home_improvement</td>\n",
       "      <td>2500</td>\n",
       "      <td>Fully Paid</td>\n",
       "      <td>92187</td>\n",
       "      <td>A</td>\n",
       "      <td>MORTGAGE</td>\n",
       "      <td>...</td>\n",
       "      <td>2822.969293</td>\n",
       "      <td>1213.88</td>\n",
       "      <td>2500.00</td>\n",
       "      <td>322.97</td>\n",
       "      <td>0.00</td>\n",
       "      <td>0.00</td>\n",
       "      <td>0.00</td>\n",
       "      <td>Jul-10</td>\n",
       "      <td>80.90</td>\n",
       "      <td>Jun-10</td>\n",
       "    </tr>\n",
       "    <tr>\n",
       "      <th>39713</th>\n",
       "      <td>90607</td>\n",
       "      <td>36</td>\n",
       "      <td>18000.0</td>\n",
       "      <td>10.28%</td>\n",
       "      <td>credit_card</td>\n",
       "      <td>8500</td>\n",
       "      <td>Fully Paid</td>\n",
       "      <td>90665</td>\n",
       "      <td>C</td>\n",
       "      <td>RENT</td>\n",
       "      <td>...</td>\n",
       "      <td>9913.491822</td>\n",
       "      <td>1020.51</td>\n",
       "      <td>8500.00</td>\n",
       "      <td>1413.49</td>\n",
       "      <td>0.00</td>\n",
       "      <td>0.00</td>\n",
       "      <td>0.00</td>\n",
       "      <td>Jul-10</td>\n",
       "      <td>281.94</td>\n",
       "      <td>Jul-10</td>\n",
       "    </tr>\n",
       "    <tr>\n",
       "      <th>39714</th>\n",
       "      <td>90390</td>\n",
       "      <td>36</td>\n",
       "      <td>100000.0</td>\n",
       "      <td>8.07%</td>\n",
       "      <td>debt_consolidation</td>\n",
       "      <td>5000</td>\n",
       "      <td>Fully Paid</td>\n",
       "      <td>90395</td>\n",
       "      <td>A</td>\n",
       "      <td>MORTGAGE</td>\n",
       "      <td>...</td>\n",
       "      <td>5272.161128</td>\n",
       "      <td>1397.12</td>\n",
       "      <td>5000.00</td>\n",
       "      <td>272.16</td>\n",
       "      <td>0.00</td>\n",
       "      <td>0.00</td>\n",
       "      <td>0.00</td>\n",
       "      <td>Apr-08</td>\n",
       "      <td>0.00</td>\n",
       "      <td>Jun-07</td>\n",
       "    </tr>\n",
       "    <tr>\n",
       "      <th>39715</th>\n",
       "      <td>89243</td>\n",
       "      <td>36</td>\n",
       "      <td>200000.0</td>\n",
       "      <td>7.43%</td>\n",
       "      <td>other</td>\n",
       "      <td>5000</td>\n",
       "      <td>Fully Paid</td>\n",
       "      <td>90376</td>\n",
       "      <td>A</td>\n",
       "      <td>MORTGAGE</td>\n",
       "      <td>...</td>\n",
       "      <td>5174.198551</td>\n",
       "      <td>672.66</td>\n",
       "      <td>5000.00</td>\n",
       "      <td>174.20</td>\n",
       "      <td>0.00</td>\n",
       "      <td>0.00</td>\n",
       "      <td>0.00</td>\n",
       "      <td>Jan-08</td>\n",
       "      <td>0.00</td>\n",
       "      <td>Jun-07</td>\n",
       "    </tr>\n",
       "    <tr>\n",
       "      <th>39716</th>\n",
       "      <td>86999</td>\n",
       "      <td>36</td>\n",
       "      <td>22000.0</td>\n",
       "      <td>13.75%</td>\n",
       "      <td>debt_consolidation</td>\n",
       "      <td>7500</td>\n",
       "      <td>Fully Paid</td>\n",
       "      <td>87023</td>\n",
       "      <td>E</td>\n",
       "      <td>OWN</td>\n",
       "      <td>...</td>\n",
       "      <td>9195.263334</td>\n",
       "      <td>980.83</td>\n",
       "      <td>7500.00</td>\n",
       "      <td>1695.26</td>\n",
       "      <td>0.00</td>\n",
       "      <td>0.00</td>\n",
       "      <td>0.00</td>\n",
       "      <td>Jun-10</td>\n",
       "      <td>256.59</td>\n",
       "      <td>Jun-10</td>\n",
       "    </tr>\n",
       "  </tbody>\n",
       "</table>\n",
       "<p>39717 rows × 31 columns</p>\n",
       "</div>"
      ],
      "text/plain": [
       "       member_id  term  annual_inc int_rate             purpose  loan_amnt  \\\n",
       "0        1296599    36     24000.0   10.65%         credit_card       5000   \n",
       "1        1314167    60     30000.0   15.27%                 car       2500   \n",
       "2        1313524    36     12252.0   15.96%      small_business       2400   \n",
       "3        1277178    36     49200.0   13.49%               other      10000   \n",
       "4        1311748    60     80000.0   12.69%               other       3000   \n",
       "...          ...   ...         ...      ...                 ...        ...   \n",
       "39712      92174    36    110000.0    8.07%    home_improvement       2500   \n",
       "39713      90607    36     18000.0   10.28%         credit_card       8500   \n",
       "39714      90390    36    100000.0    8.07%  debt_consolidation       5000   \n",
       "39715      89243    36    200000.0    7.43%               other       5000   \n",
       "39716      86999    36     22000.0   13.75%  debt_consolidation       7500   \n",
       "\n",
       "       loan_status       id grade home_ownership  ...   total_pymnt  \\\n",
       "0       Fully Paid  1077501     B           RENT  ...   5863.155187   \n",
       "1      Charged Off  1077430     C           RENT  ...   1008.710000   \n",
       "2       Fully Paid  1077175     C           RENT  ...   3005.666844   \n",
       "3       Fully Paid  1076863     C           RENT  ...  12231.890000   \n",
       "4          Current  1075358     B           RENT  ...   3513.330000   \n",
       "...            ...      ...   ...            ...  ...           ...   \n",
       "39712   Fully Paid    92187     A       MORTGAGE  ...   2822.969293   \n",
       "39713   Fully Paid    90665     C           RENT  ...   9913.491822   \n",
       "39714   Fully Paid    90395     A       MORTGAGE  ...   5272.161128   \n",
       "39715   Fully Paid    90376     A       MORTGAGE  ...   5174.198551   \n",
       "39716   Fully Paid    87023     E            OWN  ...   9195.263334   \n",
       "\n",
       "       total_pymnt_inv total_rec_prncp  total_rec_int  total_rec_late_fee  \\\n",
       "0              5833.84         5000.00         863.16                0.00   \n",
       "1              1008.71          456.46         435.17                0.00   \n",
       "2              3005.67         2400.00         605.67                0.00   \n",
       "3             12231.89        10000.00        2214.92               16.97   \n",
       "4              3513.33         2475.94        1037.39                0.00   \n",
       "...                ...             ...            ...                 ...   \n",
       "39712          1213.88         2500.00         322.97                0.00   \n",
       "39713          1020.51         8500.00        1413.49                0.00   \n",
       "39714          1397.12         5000.00         272.16                0.00   \n",
       "39715           672.66         5000.00         174.20                0.00   \n",
       "39716           980.83         7500.00        1695.26                0.00   \n",
       "\n",
       "       recoveries  collection_recovery_fee last_pymnt_d  last_pymnt_amnt  \\\n",
       "0            0.00                     0.00       Jan-15           171.62   \n",
       "1          117.08                     1.11       Apr-13           119.66   \n",
       "2            0.00                     0.00       Jun-14           649.91   \n",
       "3            0.00                     0.00       Jan-15           357.48   \n",
       "4            0.00                     0.00       May-16            67.79   \n",
       "...           ...                      ...          ...              ...   \n",
       "39712        0.00                     0.00       Jul-10            80.90   \n",
       "39713        0.00                     0.00       Jul-10           281.94   \n",
       "39714        0.00                     0.00       Apr-08             0.00   \n",
       "39715        0.00                     0.00       Jan-08             0.00   \n",
       "39716        0.00                     0.00       Jun-10           256.59   \n",
       "\n",
       "       last_credit_pull_d  \n",
       "0                  May-16  \n",
       "1                  Sep-13  \n",
       "2                  May-16  \n",
       "3                  Apr-16  \n",
       "4                  May-16  \n",
       "...                   ...  \n",
       "39712              Jun-10  \n",
       "39713              Jul-10  \n",
       "39714              Jun-07  \n",
       "39715              Jun-07  \n",
       "39716              Jun-10  \n",
       "\n",
       "[39717 rows x 31 columns]"
      ]
     },
     "execution_count": 55,
     "metadata": {},
     "output_type": "execute_result"
    }
   ],
   "source": [
    "df_filtered = df_no_null[['member_id','term','annual_inc','int_rate','purpose','loan_amnt','loan_status','id','grade','home_ownership','emp_length','dti','earliest_cr_line','inq_last_6mths','open_acc','pub_rec','revol_bal','revol_util','total_acc','out_prncp','out_prncp_inv','total_pymnt','total_pymnt_inv','total_rec_prncp','total_rec_int','total_rec_late_fee','recoveries','collection_recovery_fee','last_pymnt_d','last_pymnt_amnt','last_credit_pull_d']]\n",
    "df_filtered"
   ]
  },
  {
   "cell_type": "markdown",
   "id": "c630cdb3",
   "metadata": {},
   "source": [
    "Interest rate is converted into float by removing % and doing a type change"
   ]
  },
  {
   "cell_type": "code",
   "execution_count": 56,
   "id": "16d10145",
   "metadata": {
    "scrolled": true
   },
   "outputs": [],
   "source": [
    "df_filtered['int_rate'] = df_filtered['int_rate'].apply(lambda x : x.replace('%', ''))\n",
    "df_filtered['int_rate'] = df_filtered['int_rate'].apply(lambda x : float(x))"
   ]
  },
  {
   "cell_type": "markdown",
   "id": "38b6ae7d",
   "metadata": {},
   "source": [
    "Removing the account details which are currently active."
   ]
  },
  {
   "cell_type": "code",
   "execution_count": 57,
   "id": "e72887b3",
   "metadata": {},
   "outputs": [],
   "source": [
    "df_filtered = df_filtered[df_filtered['loan_status'] != 'Current']"
   ]
  },
  {
   "cell_type": "markdown",
   "id": "f16d0eed",
   "metadata": {},
   "source": [
    "## Univariate analysis"
   ]
  },
  {
   "cell_type": "code",
   "execution_count": 58,
   "id": "cae6de10",
   "metadata": {},
   "outputs": [
    {
     "data": {
      "text/plain": [
       "<AxesSubplot:ylabel='loan_status'>"
      ]
     },
     "execution_count": 58,
     "metadata": {},
     "output_type": "execute_result"
    },
    {
     "data": {
      "image/png": "[encoded data removed]",
      "text/plain": [
       "<Figure size 432x288 with 1 Axes>"
      ]
     },
     "metadata": {},
     "output_type": "display_data"
    }
   ],
   "source": [
    "(df_filtered['loan_status'].value_counts(1)*100).plot(kind='pie')"
   ]
  },
  {
   "cell_type": "markdown",
   "id": "515e1b8b",
   "metadata": {},
   "source": [
    "Insight - picture shows roughly 85% have completely paid the loan, rest 15% are charged off"
   ]
  },
  {
   "cell_type": "code",
   "execution_count": 78,
   "id": "6a8bee25",
   "metadata": {},
   "outputs": [
    {
     "data": {
      "text/plain": [
       "<AxesSubplot:>"
      ]
     },
     "execution_count": 78,
     "metadata": {},
     "output_type": "execute_result"
    },
    {
     "data": {
      "image/png": "[encoded data removed]",
      "text/plain": [
       "<Figure size 576x432 with 1 Axes>"
      ]
     },
     "metadata": {},
     "output_type": "display_data"
    }
   ],
   "source": [
    "y = df_filtered[['total_pymnt','loan_amnt']]\n",
    "y.boxplot(figsize=(8,6))"
   ]
  },
  {
   "cell_type": "markdown",
   "id": "30327771",
   "metadata": {},
   "source": [
    "Insight - There are high number of outliers in the data w.r.t total_pymnt,total_pymnt_inv, total_rec_int,last_pymnt_amnt"
   ]
  },
  {
   "cell_type": "code",
   "execution_count": 60,
   "id": "79da85bb",
   "metadata": {},
   "outputs": [
    {
     "data": {
      "image/png": "[encoded data removed]",
      "text/plain": [
       "<Figure size 432x288 with 1 Axes>"
      ]
     },
     "metadata": {},
     "output_type": "display_data"
    }
   ],
   "source": [
    "plt.hist(df_filtered['total_pymnt'], bins = 100)\n",
    "plt.show()"
   ]
  },
  {
   "cell_type": "markdown",
   "id": "83263d72",
   "metadata": {},
   "source": [
    "Insight - Majority of total payment made upto 15000 have been received."
   ]
  },
  {
   "cell_type": "markdown",
   "id": "dc9d0f0d",
   "metadata": {},
   "source": [
    "## Bivariate Analysis"
   ]
  },
  {
   "cell_type": "code",
   "execution_count": 79,
   "id": "7b17e675",
   "metadata": {
    "scrolled": false
   },
   "outputs": [
    {
     "data": {
      "text/html": [
       "<div>\n",
       "<style scoped>\n",
       "    .dataframe tbody tr th:only-of-type {\n",
       "        vertical-align: middle;\n",
       "    }\n",
       "\n",
       "    .dataframe tbody tr th {\n",
       "        vertical-align: top;\n",
       "    }\n",
       "\n",
       "    .dataframe thead th {\n",
       "        text-align: right;\n",
       "    }\n",
       "</style>\n",
       "<table border=\"1\" class=\"dataframe\">\n",
       "  <thead>\n",
       "    <tr style=\"text-align: right;\">\n",
       "      <th></th>\n",
       "      <th></th>\n",
       "      <th>id</th>\n",
       "    </tr>\n",
       "    <tr>\n",
       "      <th>loan_status</th>\n",
       "      <th>grade</th>\n",
       "      <th></th>\n",
       "    </tr>\n",
       "  </thead>\n",
       "  <tbody>\n",
       "    <tr>\n",
       "      <th rowspan=\"7\" valign=\"top\">Charged Off</th>\n",
       "      <th>A</th>\n",
       "      <td>602</td>\n",
       "    </tr>\n",
       "    <tr>\n",
       "      <th>B</th>\n",
       "      <td>1425</td>\n",
       "    </tr>\n",
       "    <tr>\n",
       "      <th>C</th>\n",
       "      <td>1347</td>\n",
       "    </tr>\n",
       "    <tr>\n",
       "      <th>D</th>\n",
       "      <td>1118</td>\n",
       "    </tr>\n",
       "    <tr>\n",
       "      <th>E</th>\n",
       "      <td>715</td>\n",
       "    </tr>\n",
       "    <tr>\n",
       "      <th>F</th>\n",
       "      <td>319</td>\n",
       "    </tr>\n",
       "    <tr>\n",
       "      <th>G</th>\n",
       "      <td>101</td>\n",
       "    </tr>\n",
       "    <tr>\n",
       "      <th rowspan=\"7\" valign=\"top\">Fully Paid</th>\n",
       "      <th>A</th>\n",
       "      <td>9443</td>\n",
       "    </tr>\n",
       "    <tr>\n",
       "      <th>B</th>\n",
       "      <td>10250</td>\n",
       "    </tr>\n",
       "    <tr>\n",
       "      <th>C</th>\n",
       "      <td>6487</td>\n",
       "    </tr>\n",
       "    <tr>\n",
       "      <th>D</th>\n",
       "      <td>3967</td>\n",
       "    </tr>\n",
       "    <tr>\n",
       "      <th>E</th>\n",
       "      <td>1948</td>\n",
       "    </tr>\n",
       "    <tr>\n",
       "      <th>F</th>\n",
       "      <td>657</td>\n",
       "    </tr>\n",
       "    <tr>\n",
       "      <th>G</th>\n",
       "      <td>198</td>\n",
       "    </tr>\n",
       "  </tbody>\n",
       "</table>\n",
       "</div>"
      ],
      "text/plain": [
       "                      id\n",
       "loan_status grade       \n",
       "Charged Off A        602\n",
       "            B       1425\n",
       "            C       1347\n",
       "            D       1118\n",
       "            E        715\n",
       "            F        319\n",
       "            G        101\n",
       "Fully Paid  A       9443\n",
       "            B      10250\n",
       "            C       6487\n",
       "            D       3967\n",
       "            E       1948\n",
       "            F        657\n",
       "            G        198"
      ]
     },
     "execution_count": 79,
     "metadata": {},
     "output_type": "execute_result"
    }
   ],
   "source": [
    "x = df_filtered[['loan_status','grade','id']]\n",
    "x.groupby(['loan_status','grade']).count()\n"
   ]
  },
  {
   "cell_type": "markdown",
   "id": "cb9b22f6",
   "metadata": {},
   "source": [
    "from above data, \n",
    "we can rank G,F,E and D loan types as most likely defaultable loans respectively."
   ]
  },
  {
   "cell_type": "code",
   "execution_count": 62,
   "id": "3a485a4b",
   "metadata": {},
   "outputs": [
    {
     "data": {
      "text/html": [
       "<div>\n",
       "<style scoped>\n",
       "    .dataframe tbody tr th:only-of-type {\n",
       "        vertical-align: middle;\n",
       "    }\n",
       "\n",
       "    .dataframe tbody tr th {\n",
       "        vertical-align: top;\n",
       "    }\n",
       "\n",
       "    .dataframe thead th {\n",
       "        text-align: right;\n",
       "    }\n",
       "</style>\n",
       "<table border=\"1\" class=\"dataframe\">\n",
       "  <thead>\n",
       "    <tr style=\"text-align: right;\">\n",
       "      <th></th>\n",
       "      <th></th>\n",
       "      <th>id</th>\n",
       "    </tr>\n",
       "    <tr>\n",
       "      <th>loan_status</th>\n",
       "      <th>home_ownership</th>\n",
       "      <th></th>\n",
       "    </tr>\n",
       "  </thead>\n",
       "  <tbody>\n",
       "    <tr>\n",
       "      <th rowspan=\"4\" valign=\"top\">Charged Off</th>\n",
       "      <th>MORTGAGE</th>\n",
       "      <td>2327</td>\n",
       "    </tr>\n",
       "    <tr>\n",
       "      <th>OTHER</th>\n",
       "      <td>18</td>\n",
       "    </tr>\n",
       "    <tr>\n",
       "      <th>OWN</th>\n",
       "      <td>443</td>\n",
       "    </tr>\n",
       "    <tr>\n",
       "      <th>RENT</th>\n",
       "      <td>2839</td>\n",
       "    </tr>\n",
       "    <tr>\n",
       "      <th rowspan=\"5\" valign=\"top\">Fully Paid</th>\n",
       "      <th>MORTGAGE</th>\n",
       "      <td>14694</td>\n",
       "    </tr>\n",
       "    <tr>\n",
       "      <th>NONE</th>\n",
       "      <td>3</td>\n",
       "    </tr>\n",
       "    <tr>\n",
       "      <th>OTHER</th>\n",
       "      <td>80</td>\n",
       "    </tr>\n",
       "    <tr>\n",
       "      <th>OWN</th>\n",
       "      <td>2532</td>\n",
       "    </tr>\n",
       "    <tr>\n",
       "      <th>RENT</th>\n",
       "      <td>15641</td>\n",
       "    </tr>\n",
       "  </tbody>\n",
       "</table>\n",
       "</div>"
      ],
      "text/plain": [
       "                               id\n",
       "loan_status home_ownership       \n",
       "Charged Off MORTGAGE         2327\n",
       "            OTHER              18\n",
       "            OWN               443\n",
       "            RENT             2839\n",
       "Fully Paid  MORTGAGE        14694\n",
       "            NONE                3\n",
       "            OTHER              80\n",
       "            OWN              2532\n",
       "            RENT            15641"
      ]
     },
     "execution_count": 62,
     "metadata": {},
     "output_type": "execute_result"
    }
   ],
   "source": [
    "y = df_filtered[['loan_status','home_ownership','id']]\n",
    "y.groupby(['loan_status','home_ownership']).count()"
   ]
  },
  {
   "cell_type": "markdown",
   "id": "fccd842f",
   "metadata": {},
   "source": [
    "From the data, Majority of the loans are taken by ppl whose houses are on mortgage or they stay in rented house.\n",
    "percentage of defaulting between the category is similar hence conclusions cannot be arrived here."
   ]
  },
  {
   "cell_type": "code",
   "execution_count": 63,
   "id": "2915aea8",
   "metadata": {},
   "outputs": [
    {
     "data": {
      "text/html": [
       "<div>\n",
       "<style scoped>\n",
       "    .dataframe tbody tr th:only-of-type {\n",
       "        vertical-align: middle;\n",
       "    }\n",
       "\n",
       "    .dataframe tbody tr th {\n",
       "        vertical-align: top;\n",
       "    }\n",
       "\n",
       "    .dataframe thead th {\n",
       "        text-align: right;\n",
       "    }\n",
       "</style>\n",
       "<table border=\"1\" class=\"dataframe\">\n",
       "  <thead>\n",
       "    <tr style=\"text-align: right;\">\n",
       "      <th></th>\n",
       "      <th></th>\n",
       "      <th>id</th>\n",
       "    </tr>\n",
       "    <tr>\n",
       "      <th>loan_status</th>\n",
       "      <th>emp_length</th>\n",
       "      <th></th>\n",
       "    </tr>\n",
       "  </thead>\n",
       "  <tbody>\n",
       "    <tr>\n",
       "      <th rowspan=\"11\" valign=\"top\">Charged Off</th>\n",
       "      <th>1 year</th>\n",
       "      <td>456</td>\n",
       "    </tr>\n",
       "    <tr>\n",
       "      <th>10+ years</th>\n",
       "      <td>1331</td>\n",
       "    </tr>\n",
       "    <tr>\n",
       "      <th>2 years</th>\n",
       "      <td>567</td>\n",
       "    </tr>\n",
       "    <tr>\n",
       "      <th>3 years</th>\n",
       "      <td>555</td>\n",
       "    </tr>\n",
       "    <tr>\n",
       "      <th>4 years</th>\n",
       "      <td>462</td>\n",
       "    </tr>\n",
       "    <tr>\n",
       "      <th>5 years</th>\n",
       "      <td>458</td>\n",
       "    </tr>\n",
       "    <tr>\n",
       "      <th>6 years</th>\n",
       "      <td>307</td>\n",
       "    </tr>\n",
       "    <tr>\n",
       "      <th>7 years</th>\n",
       "      <td>263</td>\n",
       "    </tr>\n",
       "    <tr>\n",
       "      <th>8 years</th>\n",
       "      <td>203</td>\n",
       "    </tr>\n",
       "    <tr>\n",
       "      <th>9 years</th>\n",
       "      <td>158</td>\n",
       "    </tr>\n",
       "    <tr>\n",
       "      <th>&lt; 1 year</th>\n",
       "      <td>639</td>\n",
       "    </tr>\n",
       "    <tr>\n",
       "      <th rowspan=\"11\" valign=\"top\">Fully Paid</th>\n",
       "      <th>1 year</th>\n",
       "      <td>2713</td>\n",
       "    </tr>\n",
       "    <tr>\n",
       "      <th>10+ years</th>\n",
       "      <td>7157</td>\n",
       "    </tr>\n",
       "    <tr>\n",
       "      <th>2 years</th>\n",
       "      <td>3724</td>\n",
       "    </tr>\n",
       "    <tr>\n",
       "      <th>3 years</th>\n",
       "      <td>3457</td>\n",
       "    </tr>\n",
       "    <tr>\n",
       "      <th>4 years</th>\n",
       "      <td>2880</td>\n",
       "    </tr>\n",
       "    <tr>\n",
       "      <th>5 years</th>\n",
       "      <td>2736</td>\n",
       "    </tr>\n",
       "    <tr>\n",
       "      <th>6 years</th>\n",
       "      <td>1861</td>\n",
       "    </tr>\n",
       "    <tr>\n",
       "      <th>7 years</th>\n",
       "      <td>1448</td>\n",
       "    </tr>\n",
       "    <tr>\n",
       "      <th>8 years</th>\n",
       "      <td>1232</td>\n",
       "    </tr>\n",
       "    <tr>\n",
       "      <th>9 years</th>\n",
       "      <td>1068</td>\n",
       "    </tr>\n",
       "    <tr>\n",
       "      <th>&lt; 1 year</th>\n",
       "      <td>3869</td>\n",
       "    </tr>\n",
       "  </tbody>\n",
       "</table>\n",
       "</div>"
      ],
      "text/plain": [
       "                          id\n",
       "loan_status emp_length      \n",
       "Charged Off 1 year       456\n",
       "            10+ years   1331\n",
       "            2 years      567\n",
       "            3 years      555\n",
       "            4 years      462\n",
       "            5 years      458\n",
       "            6 years      307\n",
       "            7 years      263\n",
       "            8 years      203\n",
       "            9 years      158\n",
       "            < 1 year     639\n",
       "Fully Paid  1 year      2713\n",
       "            10+ years   7157\n",
       "            2 years     3724\n",
       "            3 years     3457\n",
       "            4 years     2880\n",
       "            5 years     2736\n",
       "            6 years     1861\n",
       "            7 years     1448\n",
       "            8 years     1232\n",
       "            9 years     1068\n",
       "            < 1 year    3869"
      ]
     },
     "execution_count": 63,
     "metadata": {},
     "output_type": "execute_result"
    }
   ],
   "source": [
    "z = df_filtered[['loan_status','emp_length','id']]\n",
    "z.groupby(['loan_status','emp_length']).count()"
   ]
  },
  {
   "cell_type": "markdown",
   "id": "65d59a2f",
   "metadata": {},
   "source": [
    "Generally people with greater than 10years of experience are most likely to be sanctioned with loans, There is no significant pattern with defaulting based on years of work experience. Peolpe with all sections of work experience have prominent numbers in charged off section."
   ]
  },
  {
   "cell_type": "markdown",
   "id": "47fca1f6",
   "metadata": {},
   "source": [
    "# Data set is divided into chargedoff and Fullypaid "
   ]
  },
  {
   "cell_type": "code",
   "execution_count": 64,
   "id": "0dd39c5c",
   "metadata": {
    "scrolled": true
   },
   "outputs": [
    {
     "data": {
      "image/png": "[encoded data removed]",
      "text/plain": [
       "<Figure size 432x288 with 1 Axes>"
      ]
     },
     "metadata": {},
     "output_type": "display_data"
    }
   ],
   "source": [
    "df_annual_income_chargedoff = df_filtered[df_filtered['loan_status'] == 'Charged Off']\n",
    "df_annual_income_chargedoff = df_annual_income_chargedoff[df_annual_income_chargedoff['annual_inc'] < 200000]#removing outliers\n",
    "plt.hist(df_annual_income_chargedoff['annual_inc'],bins = 10)\n",
    "plt.show()"
   ]
  },
  {
   "cell_type": "code",
   "execution_count": 65,
   "id": "2e338f60",
   "metadata": {},
   "outputs": [
    {
     "data": {
      "text/plain": [
       "52500.0"
      ]
     },
     "execution_count": 65,
     "metadata": {},
     "output_type": "execute_result"
    }
   ],
   "source": [
    "df_annual_income_chargedoff['annual_inc'].median()"
   ]
  },
  {
   "cell_type": "code",
   "execution_count": 66,
   "id": "edbb5e12",
   "metadata": {},
   "outputs": [
    {
     "data": {
      "image/png": "[encoded data removed]",
      "text/plain": [
       "<Figure size 432x288 with 1 Axes>"
      ]
     },
     "metadata": {},
     "output_type": "display_data"
    }
   ],
   "source": [
    "df_annual_income_fullypaid = df_filtered[df_filtered['loan_status'] == 'Fully Paid']\n",
    "df_annual_income_fullypaid = df_annual_income_fullypaid[df_annual_income_fullypaid['annual_inc'] < 200000]#removing outliers\n",
    "plt.hist(df_annual_income_fullypaid['annual_inc'],bins = 10)\n",
    "plt.show()"
   ]
  },
  {
   "cell_type": "code",
   "execution_count": 67,
   "id": "a3a6909c",
   "metadata": {},
   "outputs": [
    {
     "data": {
      "text/plain": [
       "59000.0"
      ]
     },
     "execution_count": 67,
     "metadata": {},
     "output_type": "execute_result"
    }
   ],
   "source": [
    "df_annual_income_fullypaid['annual_inc'].median()"
   ]
  },
  {
   "cell_type": "markdown",
   "id": "7e88d692",
   "metadata": {},
   "source": [
    "majority of loans are sanctioned for ppl with annual income close to 75000, hence chanrged off cases also have a similar patter with the income, hence there is no correlation with annual income and defaulting"
   ]
  },
  {
   "cell_type": "code",
   "execution_count": 68,
   "id": "c80f3044",
   "metadata": {},
   "outputs": [
    {
     "data": {
      "image/png": "[encoded data removed]",
      "text/plain": [
       "<Figure size 432x288 with 1 Axes>"
      ]
     },
     "metadata": {},
     "output_type": "display_data"
    }
   ],
   "source": [
    "plt.hist(df_annual_income_chargedoff['int_rate'],bins = 15)\n",
    "plt.show()"
   ]
  },
  {
   "cell_type": "code",
   "execution_count": 69,
   "id": "15dd71ab",
   "metadata": {},
   "outputs": [
    {
     "data": {
      "text/plain": [
       "13.57"
      ]
     },
     "execution_count": 69,
     "metadata": {},
     "output_type": "execute_result"
    }
   ],
   "source": [
    "df_annual_income_chargedoff['int_rate'].median()"
   ]
  },
  {
   "cell_type": "code",
   "execution_count": 70,
   "id": "92d7b38a",
   "metadata": {
    "scrolled": true
   },
   "outputs": [
    {
     "data": {
      "image/png": "[encoded data removed]",
      "text/plain": [
       "<Figure size 432x288 with 1 Axes>"
      ]
     },
     "metadata": {},
     "output_type": "display_data"
    }
   ],
   "source": [
    "plt.hist(df_annual_income_fullypaid['int_rate'],bins = 15)\n",
    "plt.show()"
   ]
  },
  {
   "cell_type": "code",
   "execution_count": 71,
   "id": "8527891c",
   "metadata": {},
   "outputs": [
    {
     "data": {
      "text/plain": [
       "11.49"
      ]
     },
     "execution_count": 71,
     "metadata": {},
     "output_type": "execute_result"
    }
   ],
   "source": [
    "df_annual_income_fullypaid['int_rate'].median()"
   ]
  },
  {
   "cell_type": "markdown",
   "id": "fe8d9a22",
   "metadata": {},
   "source": [
    "The defaulting on the loan has increasing trend when the interest rate is higher than 10%"
   ]
  },
  {
   "cell_type": "code",
   "execution_count": 72,
   "id": "48b11961",
   "metadata": {},
   "outputs": [
    {
     "data": {
      "image/png": "[encoded data removed]",
      "text/plain": [
       "<Figure size 432x288 with 1 Axes>"
      ]
     },
     "metadata": {},
     "output_type": "display_data"
    },
    {
     "data": {
      "text/plain": [
       "0.8642590371413146"
      ]
     },
     "execution_count": 72,
     "metadata": {},
     "output_type": "execute_result"
    }
   ],
   "source": [
    "plt.boxplot(df_annual_income_fullypaid['total_rec_late_fee'])\n",
    "plt.show()\n",
    "df_annual_income_fullypaid['total_rec_late_fee'].mean()"
   ]
  },
  {
   "cell_type": "code",
   "execution_count": 73,
   "id": "5ee2c93b",
   "metadata": {},
   "outputs": [
    {
     "data": {
      "image/png": "[encoded data removed]",
      "text/plain": [
       "<Figure size 432x288 with 1 Axes>"
      ]
     },
     "metadata": {},
     "output_type": "display_data"
    },
    {
     "data": {
      "text/plain": [
       "4.270301250041401"
      ]
     },
     "execution_count": 73,
     "metadata": {},
     "output_type": "execute_result"
    }
   ],
   "source": [
    "plt.boxplot(df_annual_income_chargedoff['total_rec_late_fee'])\n",
    "plt.show()\n",
    "df_annual_income_chargedoff['total_rec_late_fee'].mean()"
   ]
  },
  {
   "cell_type": "markdown",
   "id": "b71f4b92",
   "metadata": {},
   "source": [
    "Avergae late payment fee is high for charged off data, indicates that with the late payment , there is a strong possibility towards defaulting"
   ]
  },
  {
   "cell_type": "code",
   "execution_count": 80,
   "id": "54b7505a",
   "metadata": {},
   "outputs": [
    {
     "data": {
      "text/plain": [
       "<matplotlib.collections.PathCollection at 0x7fb360f98a90>"
      ]
     },
     "execution_count": 80,
     "metadata": {},
     "output_type": "execute_result"
    },
    {
     "data": {
      "image/png": "[encoded data removed]",
      "text/plain": [
       "<Figure size 432x288 with 1 Axes>"
      ]
     },
     "metadata": {},
     "output_type": "display_data"
    }
   ],
   "source": [
    "plt.scatter(df_annual_income_fullypaid['annual_inc'], df_annual_income_fullypaid['loan_amnt'])"
   ]
  },
  {
   "cell_type": "code",
   "execution_count": 74,
   "id": "4a5c8ca3",
   "metadata": {},
   "outputs": [
    {
     "data": {
      "text/plain": [
       "<matplotlib.collections.PathCollection at 0x7fb33324dd90>"
      ]
     },
     "execution_count": 74,
     "metadata": {},
     "output_type": "execute_result"
    },
    {
     "data": {
      "image/png": "[encoded data removed]",
      "text/plain": [
       "<Figure size 432x288 with 1 Axes>"
      ]
     },
     "metadata": {},
     "output_type": "display_data"
    }
   ],
   "source": [
    "plt.scatter(df_annual_income_chargedoff['annual_inc'], df_annual_income_chargedoff['loan_amnt'])"
   ]
  },
  {
   "cell_type": "markdown",
   "id": "a352c52e",
   "metadata": {},
   "source": [
    "Majority of the loan defaulting is seen when the annual income of the person is less that 75000."
   ]
  },
  {
   "cell_type": "code",
   "execution_count": 75,
   "id": "38cd2808",
   "metadata": {},
   "outputs": [
    {
     "data": {
      "text/html": [
       "<div>\n",
       "<style scoped>\n",
       "    .dataframe tbody tr th:only-of-type {\n",
       "        vertical-align: middle;\n",
       "    }\n",
       "\n",
       "    .dataframe tbody tr th {\n",
       "        vertical-align: top;\n",
       "    }\n",
       "\n",
       "    .dataframe thead th {\n",
       "        text-align: right;\n",
       "    }\n",
       "</style>\n",
       "<table border=\"1\" class=\"dataframe\">\n",
       "  <thead>\n",
       "    <tr style=\"text-align: right;\">\n",
       "      <th></th>\n",
       "      <th></th>\n",
       "      <th>id</th>\n",
       "    </tr>\n",
       "    <tr>\n",
       "      <th>loan_status</th>\n",
       "      <th>term</th>\n",
       "      <th></th>\n",
       "    </tr>\n",
       "  </thead>\n",
       "  <tbody>\n",
       "    <tr>\n",
       "      <th rowspan=\"2\" valign=\"top\">Charged Off</th>\n",
       "      <th>36</th>\n",
       "      <td>3227</td>\n",
       "    </tr>\n",
       "    <tr>\n",
       "      <th>60</th>\n",
       "      <td>2400</td>\n",
       "    </tr>\n",
       "    <tr>\n",
       "      <th rowspan=\"2\" valign=\"top\">Fully Paid</th>\n",
       "      <th>36</th>\n",
       "      <td>25869</td>\n",
       "    </tr>\n",
       "    <tr>\n",
       "      <th>60</th>\n",
       "      <td>7081</td>\n",
       "    </tr>\n",
       "  </tbody>\n",
       "</table>\n",
       "</div>"
      ],
      "text/plain": [
       "                     id\n",
       "loan_status term       \n",
       "Charged Off 36     3227\n",
       "            60     2400\n",
       "Fully Paid  36    25869\n",
       "            60     7081"
      ]
     },
     "execution_count": 75,
     "metadata": {},
     "output_type": "execute_result"
    }
   ],
   "source": [
    "a = df_filtered[['loan_status','term','id']]\n",
    "a.groupby(['loan_status','term']).count()"
   ]
  },
  {
   "cell_type": "markdown",
   "id": "a1d5dfbd",
   "metadata": {},
   "source": [
    "The percentage of chargedoff cases are more when the loan is sanctioned for 60months"
   ]
  },
  {
   "cell_type": "markdown",
   "id": "2041bd43",
   "metadata": {},
   "source": [
    "# Conclusion:"
   ]
  },
  {
   "cell_type": "markdown",
   "id": "da5e5f35",
   "metadata": {},
   "source": [
    "1. Roughly 85% have completely paid the loan, rest 15% are charged off <br />\n",
    "2. There are high number of outliers in the data w.r.t total_pymnt,total_pymnt_inv, total_rec_int,last_pymnt_amnt<br />\n",
    "3. Majority of total payment made upto 15000 have been received.<br />\n",
    "4.we can rank G,F,E and D loan types as most likely defaultable loans respectively.<br />\n",
    "5.From the data, Majority of the loans are taken by ppl whose houses are on mortgage or they stay in rented house.\n",
    "percentage of defaulting between the category is similar hence conclusions cannot be arrived here.<br />\n",
    "6. Generally people with greater than 10years of experience are most likely to be sanctioned with loans, There is no significant pattern with defaulting based on years of work experience. Peolpe with all sections of work experience have prominent numbers in charged off section.<br />\n",
    "7.majority of loans are sanctioned for ppl with annual income close to 75000, hence chanrged off cases also have a similar patter with the income, hence there is no correlation with annual income and defaulting<br />\n",
    "8.The defaulting on the loan has increasing trend when the interest rate is higher than 10%<br />\n",
    "9.Avergae late payment fee is high for charged off data, indicates that with the late payment , there is a strong possibility towards defaulting<br />\n",
    "10. Majority of the loan defaulting is seen when the annual income of the person is less that 75000.<br />\n",
    "11. The percentage of chargedoff cases are more when the loan is sanctioned for 60months"
   ]
  },
  {
   "cell_type": "code",
   "execution_count": null,
   "id": "818e7b8a",
   "metadata": {},
   "outputs": [],
   "source": []
  }
 ],
 "metadata": {
  "kernelspec": {
   "display_name": "Python 3 (ipykernel)",
   "language": "python",
   "name": "python3"
  },
  "language_info": {
   "codemirror_mode": {
    "name": "ipython",
    "version": 3
   },
   "file_extension": ".py",
   "mimetype": "text/x-python",
   "name": "python",
   "nbconvert_exporter": "python",
   "pygments_lexer": "ipython3",
   "version": "3.9.7"
  }
 },
 "nbformat": 4,
 "nbformat_minor": 5
}
